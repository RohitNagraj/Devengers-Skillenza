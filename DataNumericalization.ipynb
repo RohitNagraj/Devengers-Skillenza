{
 "cells": [
  {
   "cell_type": "markdown",
   "metadata": {},
   "source": [
    "### Data numericalization"
   ]
  },
  {
   "cell_type": "code",
   "execution_count": 1,
   "metadata": {},
   "outputs": [],
   "source": [
    "import numpy as np\n",
    "import pandas as pd"
   ]
  },
  {
   "cell_type": "code",
   "execution_count": 2,
   "metadata": {},
   "outputs": [],
   "source": [
    "df = pd.read_csv('test_cleaned.csv')"
   ]
  },
  {
   "cell_type": "code",
   "execution_count": 3,
   "metadata": {},
   "outputs": [
    {
     "data": {
      "text/html": [
       "<div>\n",
       "<style scoped>\n",
       "    .dataframe tbody tr th:only-of-type {\n",
       "        vertical-align: middle;\n",
       "    }\n",
       "\n",
       "    .dataframe tbody tr th {\n",
       "        vertical-align: top;\n",
       "    }\n",
       "\n",
       "    .dataframe thead th {\n",
       "        text-align: right;\n",
       "    }\n",
       "</style>\n",
       "<table border=\"1\" class=\"dataframe\">\n",
       "  <thead>\n",
       "    <tr style=\"text-align: right;\">\n",
       "      <th></th>\n",
       "      <th>Age</th>\n",
       "      <th>Gender</th>\n",
       "      <th>Country</th>\n",
       "      <th>self_employed</th>\n",
       "      <th>family_history</th>\n",
       "      <th>no_employees</th>\n",
       "      <th>remote_work</th>\n",
       "      <th>tech_company</th>\n",
       "      <th>benefits</th>\n",
       "      <th>care_options</th>\n",
       "      <th>...</th>\n",
       "      <th>anonymity</th>\n",
       "      <th>leave</th>\n",
       "      <th>mental_health_consequence</th>\n",
       "      <th>phys_health_consequence</th>\n",
       "      <th>coworkers</th>\n",
       "      <th>supervisor</th>\n",
       "      <th>mental_health_interview</th>\n",
       "      <th>phys_health_interview</th>\n",
       "      <th>mental_vs_physical</th>\n",
       "      <th>obs_consequence</th>\n",
       "    </tr>\n",
       "  </thead>\n",
       "  <tbody>\n",
       "    <tr>\n",
       "      <th>0</th>\n",
       "      <td>25</td>\n",
       "      <td>M</td>\n",
       "      <td>United States</td>\n",
       "      <td>No</td>\n",
       "      <td>Yes</td>\n",
       "      <td>6-25</td>\n",
       "      <td>Yes</td>\n",
       "      <td>Yes</td>\n",
       "      <td>Yes</td>\n",
       "      <td>Yes</td>\n",
       "      <td>...</td>\n",
       "      <td>Yes</td>\n",
       "      <td>Somewhat easy</td>\n",
       "      <td>No</td>\n",
       "      <td>No</td>\n",
       "      <td>Yes</td>\n",
       "      <td>Yes</td>\n",
       "      <td>Maybe</td>\n",
       "      <td>Maybe</td>\n",
       "      <td>Don't know</td>\n",
       "      <td>No</td>\n",
       "    </tr>\n",
       "    <tr>\n",
       "      <th>1</th>\n",
       "      <td>42</td>\n",
       "      <td>M</td>\n",
       "      <td>United States</td>\n",
       "      <td>No</td>\n",
       "      <td>Yes</td>\n",
       "      <td>6-25</td>\n",
       "      <td>Yes</td>\n",
       "      <td>Yes</td>\n",
       "      <td>Don't know</td>\n",
       "      <td>No</td>\n",
       "      <td>...</td>\n",
       "      <td>Don't know</td>\n",
       "      <td>Don't know</td>\n",
       "      <td>Maybe</td>\n",
       "      <td>No</td>\n",
       "      <td>Some of them</td>\n",
       "      <td>Yes</td>\n",
       "      <td>No</td>\n",
       "      <td>Maybe</td>\n",
       "      <td>Don't know</td>\n",
       "      <td>No</td>\n",
       "    </tr>\n",
       "    <tr>\n",
       "      <th>2</th>\n",
       "      <td>34</td>\n",
       "      <td>M</td>\n",
       "      <td>United States</td>\n",
       "      <td>No</td>\n",
       "      <td>Yes</td>\n",
       "      <td>100-500</td>\n",
       "      <td>No</td>\n",
       "      <td>Yes</td>\n",
       "      <td>Yes</td>\n",
       "      <td>Yes</td>\n",
       "      <td>...</td>\n",
       "      <td>Yes</td>\n",
       "      <td>Very easy</td>\n",
       "      <td>No</td>\n",
       "      <td>No</td>\n",
       "      <td>Yes</td>\n",
       "      <td>Yes</td>\n",
       "      <td>Maybe</td>\n",
       "      <td>Maybe</td>\n",
       "      <td>Don't know</td>\n",
       "      <td>No</td>\n",
       "    </tr>\n",
       "    <tr>\n",
       "      <th>3</th>\n",
       "      <td>26</td>\n",
       "      <td>F</td>\n",
       "      <td>United States</td>\n",
       "      <td>No</td>\n",
       "      <td>No</td>\n",
       "      <td>26-100</td>\n",
       "      <td>Yes</td>\n",
       "      <td>Yes</td>\n",
       "      <td>Don't know</td>\n",
       "      <td>No</td>\n",
       "      <td>...</td>\n",
       "      <td>Don't know</td>\n",
       "      <td>Don't know</td>\n",
       "      <td>Maybe</td>\n",
       "      <td>No</td>\n",
       "      <td>Some of them</td>\n",
       "      <td>No</td>\n",
       "      <td>Maybe</td>\n",
       "      <td>Maybe</td>\n",
       "      <td>Don't know</td>\n",
       "      <td>Yes</td>\n",
       "    </tr>\n",
       "    <tr>\n",
       "      <th>4</th>\n",
       "      <td>35</td>\n",
       "      <td>M</td>\n",
       "      <td>United Kingdom</td>\n",
       "      <td>No</td>\n",
       "      <td>Yes</td>\n",
       "      <td>1-5</td>\n",
       "      <td>No</td>\n",
       "      <td>Yes</td>\n",
       "      <td>No</td>\n",
       "      <td>Yes</td>\n",
       "      <td>...</td>\n",
       "      <td>Yes</td>\n",
       "      <td>Very easy</td>\n",
       "      <td>Yes</td>\n",
       "      <td>Yes</td>\n",
       "      <td>Some of them</td>\n",
       "      <td>Some of them</td>\n",
       "      <td>No</td>\n",
       "      <td>Maybe</td>\n",
       "      <td>Yes</td>\n",
       "      <td>Yes</td>\n",
       "    </tr>\n",
       "  </tbody>\n",
       "</table>\n",
       "<p>5 rows × 22 columns</p>\n",
       "</div>"
      ],
      "text/plain": [
       "   Age Gender         Country self_employed family_history no_employees  \\\n",
       "0   25      M   United States            No            Yes         6-25   \n",
       "1   42      M   United States            No            Yes         6-25   \n",
       "2   34      M   United States            No            Yes      100-500   \n",
       "3   26      F   United States            No             No       26-100   \n",
       "4   35      M  United Kingdom            No            Yes          1-5   \n",
       "\n",
       "  remote_work tech_company    benefits care_options  ...   anonymity  \\\n",
       "0         Yes          Yes         Yes          Yes  ...         Yes   \n",
       "1         Yes          Yes  Don't know           No  ...  Don't know   \n",
       "2          No          Yes         Yes          Yes  ...         Yes   \n",
       "3         Yes          Yes  Don't know           No  ...  Don't know   \n",
       "4          No          Yes          No          Yes  ...         Yes   \n",
       "\n",
       "           leave mental_health_consequence phys_health_consequence  \\\n",
       "0  Somewhat easy                        No                      No   \n",
       "1     Don't know                     Maybe                      No   \n",
       "2      Very easy                        No                      No   \n",
       "3     Don't know                     Maybe                      No   \n",
       "4      Very easy                       Yes                     Yes   \n",
       "\n",
       "      coworkers    supervisor mental_health_interview phys_health_interview  \\\n",
       "0           Yes           Yes                   Maybe                 Maybe   \n",
       "1  Some of them           Yes                      No                 Maybe   \n",
       "2           Yes           Yes                   Maybe                 Maybe   \n",
       "3  Some of them            No                   Maybe                 Maybe   \n",
       "4  Some of them  Some of them                      No                 Maybe   \n",
       "\n",
       "  mental_vs_physical obs_consequence  \n",
       "0         Don't know              No  \n",
       "1         Don't know              No  \n",
       "2         Don't know              No  \n",
       "3         Don't know             Yes  \n",
       "4                Yes             Yes  \n",
       "\n",
       "[5 rows x 22 columns]"
      ]
     },
     "execution_count": 3,
     "metadata": {},
     "output_type": "execute_result"
    }
   ],
   "source": [
    "df.head()"
   ]
  },
  {
   "cell_type": "code",
   "execution_count": 4,
   "metadata": {},
   "outputs": [
    {
     "data": {
      "text/plain": [
       "Index(['Age', 'Gender', 'Country', 'self_employed', 'family_history',\n",
       "       'no_employees', 'remote_work', 'tech_company', 'benefits',\n",
       "       'care_options', 'wellness_program', 'seek_help', 'anonymity', 'leave',\n",
       "       'mental_health_consequence', 'phys_health_consequence', 'coworkers',\n",
       "       'supervisor', 'mental_health_interview', 'phys_health_interview',\n",
       "       'mental_vs_physical', 'obs_consequence'],\n",
       "      dtype='object')"
      ]
     },
     "execution_count": 4,
     "metadata": {},
     "output_type": "execute_result"
    }
   ],
   "source": [
    "df.columns"
   ]
  },
  {
   "cell_type": "code",
   "execution_count": 5,
   "metadata": {},
   "outputs": [
    {
     "name": "stdout",
     "output_type": "stream",
     "text": [
      "['M' 'F']\n",
      "[0 1]\n"
     ]
    }
   ],
   "source": [
    "# Gender\n",
    "print(df['Gender'].unique())\n",
    "df['Gender'].replace({'M':0, 'F':1}, inplace=True)\n",
    "print(df['Gender'].unique())"
   ]
  },
  {
   "cell_type": "code",
   "execution_count": 6,
   "metadata": {},
   "outputs": [],
   "source": [
    "# Country\n",
    "mapping = {}\n",
    "c = df['Country'].unique()\n",
    "for i in range(len(c)):\n",
    "    mapping[c[i]] = i\n",
    "df['Country'].replace(mapping, inplace=True)"
   ]
  },
  {
   "cell_type": "code",
   "execution_count": 7,
   "metadata": {},
   "outputs": [
    {
     "name": "stdout",
     "output_type": "stream",
     "text": [
      "['No' 'Yes']\n",
      "[0 1]\n"
     ]
    }
   ],
   "source": [
    "# Self employed\n",
    "print(df['self_employed'].unique())\n",
    "df['self_employed'].replace({'No':0, 'Yes':1}, inplace=True)\n",
    "print(df['self_employed'].unique())"
   ]
  },
  {
   "cell_type": "code",
   "execution_count": 8,
   "metadata": {},
   "outputs": [
    {
     "name": "stdout",
     "output_type": "stream",
     "text": [
      "['Yes' 'No']\n",
      "[1 0]\n"
     ]
    }
   ],
   "source": [
    "# Family history\n",
    "print(df['family_history'].unique())\n",
    "df['family_history'].replace({'No':0, 'Yes':1}, inplace=True)\n",
    "print(df['family_history'].unique())"
   ]
  },
  {
   "cell_type": "code",
   "execution_count": 9,
   "metadata": {},
   "outputs": [
    {
     "name": "stdout",
     "output_type": "stream",
     "text": [
      "['6-25' '100-500' '26-100' '1-5' '500-1000' 'More than 1000']\n",
      "[1 3 2 0 4 5]\n"
     ]
    }
   ],
   "source": [
    "# No. of employees\n",
    "print(df['no_employees'].unique())\n",
    "df['no_employees'].replace({'1-5': 0, '6-25': 1, '26-100': 2, '100-500':3, '500-1000': 4, 'More than 1000':5}, inplace=True)\n",
    "print(df['no_employees'].unique())"
   ]
  },
  {
   "cell_type": "code",
   "execution_count": 10,
   "metadata": {},
   "outputs": [
    {
     "name": "stdout",
     "output_type": "stream",
     "text": [
      "['Yes' 'No']\n",
      "[1 0]\n"
     ]
    }
   ],
   "source": [
    "# Remote work\n",
    "print(df['remote_work'].unique())\n",
    "df['remote_work'].replace({'No':0, 'Yes':1}, inplace=True)\n",
    "print(df['remote_work'].unique())"
   ]
  },
  {
   "cell_type": "code",
   "execution_count": 11,
   "metadata": {},
   "outputs": [
    {
     "name": "stdout",
     "output_type": "stream",
     "text": [
      "['Yes' 'No']\n",
      "[1 0]\n"
     ]
    }
   ],
   "source": [
    "# Tech company\n",
    "print(df['tech_company'].unique())\n",
    "df['tech_company'].replace({'No':0, 'Yes':1}, inplace=True)\n",
    "print(df['tech_company'].unique())"
   ]
  },
  {
   "cell_type": "code",
   "execution_count": 12,
   "metadata": {},
   "outputs": [
    {
     "name": "stdout",
     "output_type": "stream",
     "text": [
      "['Yes' \"Don't know\" 'No']\n",
      "[1 2 0]\n"
     ]
    }
   ],
   "source": [
    "# Benefits\n",
    "print(df['benefits'].unique())\n",
    "df['benefits'].replace({'No':0, 'Yes':1, \"Don't know\": 2}, inplace=True)\n",
    "print(df['benefits'].unique())"
   ]
  },
  {
   "cell_type": "code",
   "execution_count": 13,
   "metadata": {},
   "outputs": [
    {
     "name": "stdout",
     "output_type": "stream",
     "text": [
      "['Yes' 'No' 'Not sure']\n",
      "[1 0 2]\n"
     ]
    }
   ],
   "source": [
    "# Care options\n",
    "print(df['care_options'].unique())\n",
    "df['care_options'].replace({'No':0, 'Yes':1, \"Not sure\": 2}, inplace=True)\n",
    "print(df['care_options'].unique())"
   ]
  },
  {
   "cell_type": "code",
   "execution_count": 14,
   "metadata": {},
   "outputs": [
    {
     "name": "stdout",
     "output_type": "stream",
     "text": [
      "['No' 'Yes' \"Don't know\"]\n",
      "[0 1 2]\n"
     ]
    }
   ],
   "source": [
    "# Wellness program\n",
    "print(df['wellness_program'].unique())\n",
    "df['wellness_program'].replace({'No':0, 'Yes':1, \"Don't know\": 2}, inplace=True)\n",
    "print(df['wellness_program'].unique())"
   ]
  },
  {
   "cell_type": "code",
   "execution_count": 15,
   "metadata": {},
   "outputs": [
    {
     "name": "stdout",
     "output_type": "stream",
     "text": [
      "[\"Don't know\" 'No' 'Yes']\n",
      "[2 0 1]\n"
     ]
    }
   ],
   "source": [
    "# Seek help\n",
    "print(df['seek_help'].unique())\n",
    "df['seek_help'].replace({'No':0, 'Yes':1, \"Don't know\": 2}, inplace=True)\n",
    "print(df['seek_help'].unique())"
   ]
  },
  {
   "cell_type": "code",
   "execution_count": 16,
   "metadata": {},
   "outputs": [
    {
     "data": {
      "text/plain": [
       "Index(['Age', 'Gender', 'Country', 'self_employed', 'family_history',\n",
       "       'no_employees', 'remote_work', 'tech_company', 'benefits',\n",
       "       'care_options', 'wellness_program', 'seek_help', 'anonymity', 'leave',\n",
       "       'mental_health_consequence', 'phys_health_consequence', 'coworkers',\n",
       "       'supervisor', 'mental_health_interview', 'phys_health_interview',\n",
       "       'mental_vs_physical', 'obs_consequence'],\n",
       "      dtype='object')"
      ]
     },
     "execution_count": 16,
     "metadata": {},
     "output_type": "execute_result"
    }
   ],
   "source": [
    "df.columns"
   ]
  },
  {
   "cell_type": "code",
   "execution_count": 17,
   "metadata": {},
   "outputs": [
    {
     "name": "stdout",
     "output_type": "stream",
     "text": [
      "['Yes' \"Don't know\" 'No']\n",
      "[1 2 0]\n"
     ]
    }
   ],
   "source": [
    "# Anonymity\n",
    "print(df['anonymity'].unique())\n",
    "df['anonymity'].replace({'No':0, 'Yes':1, \"Don't know\": 2}, inplace=True)\n",
    "print(df['anonymity'].unique())"
   ]
  },
  {
   "cell_type": "code",
   "execution_count": 18,
   "metadata": {},
   "outputs": [
    {
     "name": "stdout",
     "output_type": "stream",
     "text": [
      "['Somewhat easy' \"Don't know\" 'Very easy' 'Somewhat difficult'\n",
      " 'Very difficult']\n",
      "[1 4 0 2 3]\n"
     ]
    }
   ],
   "source": [
    "# Leave\n",
    "print(df['leave'].unique())\n",
    "df['leave'].replace({'Very easy':0, 'Somewhat easy':1, \"Somewhat difficult\":2,\n",
    "                     \"Very difficult\":3, \"Don't know\": 4}, inplace=True)\n",
    "print(df['leave'].unique())"
   ]
  },
  {
   "cell_type": "code",
   "execution_count": 19,
   "metadata": {},
   "outputs": [
    {
     "name": "stdout",
     "output_type": "stream",
     "text": [
      "['No' 'Maybe' 'Yes']\n",
      "[0 2 1]\n"
     ]
    }
   ],
   "source": [
    "# Mental health consequence\n",
    "print(df['mental_health_consequence'].unique())\n",
    "df['mental_health_consequence'].replace({'No':0, 'Yes':1, \"Maybe\": 2}, inplace=True)\n",
    "print(df['mental_health_consequence'].unique())"
   ]
  },
  {
   "cell_type": "code",
   "execution_count": 20,
   "metadata": {},
   "outputs": [
    {
     "name": "stdout",
     "output_type": "stream",
     "text": [
      "['No' 'Yes' 'Maybe']\n",
      "[0 1 2]\n"
     ]
    }
   ],
   "source": [
    "# Physical Health Consequence\n",
    "print(df['phys_health_consequence'].unique())\n",
    "df['phys_health_consequence'].replace({'No':0, 'Yes':1, \"Maybe\": 2}, inplace=True)\n",
    "print(df['phys_health_consequence'].unique())"
   ]
  },
  {
   "cell_type": "code",
   "execution_count": 21,
   "metadata": {},
   "outputs": [
    {
     "name": "stdout",
     "output_type": "stream",
     "text": [
      "['Yes' 'Some of them' 'No']\n",
      "[1 2 0]\n"
     ]
    }
   ],
   "source": [
    "# Coworkers\n",
    "print(df['coworkers'].unique())\n",
    "df['coworkers'].replace({'No':0, 'Yes':1, \"Some of them\": 2}, inplace=True)\n",
    "print(df['coworkers'].unique())"
   ]
  },
  {
   "cell_type": "code",
   "execution_count": 22,
   "metadata": {},
   "outputs": [
    {
     "name": "stdout",
     "output_type": "stream",
     "text": [
      "['Yes' 'No' 'Some of them']\n",
      "[1 0 2]\n"
     ]
    }
   ],
   "source": [
    "# Superwiser\n",
    "print(df['supervisor'].unique())\n",
    "df['supervisor'].replace({'No':0, 'Yes':1, \"Some of them\": 2}, inplace=True)\n",
    "print(df['supervisor'].unique())"
   ]
  },
  {
   "cell_type": "code",
   "execution_count": 23,
   "metadata": {},
   "outputs": [
    {
     "name": "stdout",
     "output_type": "stream",
     "text": [
      "['Maybe' 'No' 'Yes']\n",
      "[2 0 1]\n"
     ]
    }
   ],
   "source": [
    "# Mental health interview\n",
    "print(df['mental_health_interview'].unique())\n",
    "df['mental_health_interview'].replace({'No':0, 'Yes':1, \"Maybe\": 2}, inplace=True)\n",
    "print(df['mental_health_interview'].unique())"
   ]
  },
  {
   "cell_type": "code",
   "execution_count": 24,
   "metadata": {},
   "outputs": [
    {
     "name": "stdout",
     "output_type": "stream",
     "text": [
      "['Maybe' 'No' 'Yes']\n",
      "[2 0 1]\n"
     ]
    }
   ],
   "source": [
    "# Physical health interview\n",
    "print(df['phys_health_interview'].unique())\n",
    "df['phys_health_interview'].replace({'No':0, 'Yes':1, \"Maybe\": 2}, inplace=True)\n",
    "print(df['phys_health_interview'].unique())"
   ]
  },
  {
   "cell_type": "code",
   "execution_count": 25,
   "metadata": {},
   "outputs": [
    {
     "name": "stdout",
     "output_type": "stream",
     "text": [
      "[\"Don't know\" 'Yes' 'No']\n",
      "[2 1 0]\n"
     ]
    }
   ],
   "source": [
    "# Mental vs Physical\n",
    "print(df['mental_vs_physical'].unique())\n",
    "df['mental_vs_physical'].replace({'No':0, 'Yes':1, \"Don't know\": 2}, inplace=True)\n",
    "print(df['mental_vs_physical'].unique())"
   ]
  },
  {
   "cell_type": "code",
   "execution_count": 26,
   "metadata": {},
   "outputs": [
    {
     "name": "stdout",
     "output_type": "stream",
     "text": [
      "['No' 'Yes']\n",
      "[0 1]\n"
     ]
    }
   ],
   "source": [
    "# Obs Consequences\n",
    "print(df['obs_consequence'].unique())\n",
    "df['obs_consequence'].replace({'No':0, 'Yes':1}, inplace=True)\n",
    "print(df['obs_consequence'].unique())"
   ]
  },
  {
   "cell_type": "code",
   "execution_count": 27,
   "metadata": {},
   "outputs": [
    {
     "data": {
      "text/html": [
       "<div>\n",
       "<style scoped>\n",
       "    .dataframe tbody tr th:only-of-type {\n",
       "        vertical-align: middle;\n",
       "    }\n",
       "\n",
       "    .dataframe tbody tr th {\n",
       "        vertical-align: top;\n",
       "    }\n",
       "\n",
       "    .dataframe thead th {\n",
       "        text-align: right;\n",
       "    }\n",
       "</style>\n",
       "<table border=\"1\" class=\"dataframe\">\n",
       "  <thead>\n",
       "    <tr style=\"text-align: right;\">\n",
       "      <th></th>\n",
       "      <th>Age</th>\n",
       "      <th>Gender</th>\n",
       "      <th>Country</th>\n",
       "      <th>self_employed</th>\n",
       "      <th>family_history</th>\n",
       "      <th>no_employees</th>\n",
       "      <th>remote_work</th>\n",
       "      <th>tech_company</th>\n",
       "      <th>benefits</th>\n",
       "      <th>care_options</th>\n",
       "      <th>...</th>\n",
       "      <th>anonymity</th>\n",
       "      <th>leave</th>\n",
       "      <th>mental_health_consequence</th>\n",
       "      <th>phys_health_consequence</th>\n",
       "      <th>coworkers</th>\n",
       "      <th>supervisor</th>\n",
       "      <th>mental_health_interview</th>\n",
       "      <th>phys_health_interview</th>\n",
       "      <th>mental_vs_physical</th>\n",
       "      <th>obs_consequence</th>\n",
       "    </tr>\n",
       "  </thead>\n",
       "  <tbody>\n",
       "    <tr>\n",
       "      <th>0</th>\n",
       "      <td>25</td>\n",
       "      <td>0</td>\n",
       "      <td>0</td>\n",
       "      <td>0</td>\n",
       "      <td>1</td>\n",
       "      <td>1</td>\n",
       "      <td>1</td>\n",
       "      <td>1</td>\n",
       "      <td>1</td>\n",
       "      <td>1</td>\n",
       "      <td>...</td>\n",
       "      <td>1</td>\n",
       "      <td>1</td>\n",
       "      <td>0</td>\n",
       "      <td>0</td>\n",
       "      <td>1</td>\n",
       "      <td>1</td>\n",
       "      <td>2</td>\n",
       "      <td>2</td>\n",
       "      <td>2</td>\n",
       "      <td>0</td>\n",
       "    </tr>\n",
       "    <tr>\n",
       "      <th>1</th>\n",
       "      <td>42</td>\n",
       "      <td>0</td>\n",
       "      <td>0</td>\n",
       "      <td>0</td>\n",
       "      <td>1</td>\n",
       "      <td>1</td>\n",
       "      <td>1</td>\n",
       "      <td>1</td>\n",
       "      <td>2</td>\n",
       "      <td>0</td>\n",
       "      <td>...</td>\n",
       "      <td>2</td>\n",
       "      <td>4</td>\n",
       "      <td>2</td>\n",
       "      <td>0</td>\n",
       "      <td>2</td>\n",
       "      <td>1</td>\n",
       "      <td>0</td>\n",
       "      <td>2</td>\n",
       "      <td>2</td>\n",
       "      <td>0</td>\n",
       "    </tr>\n",
       "    <tr>\n",
       "      <th>2</th>\n",
       "      <td>34</td>\n",
       "      <td>0</td>\n",
       "      <td>0</td>\n",
       "      <td>0</td>\n",
       "      <td>1</td>\n",
       "      <td>3</td>\n",
       "      <td>0</td>\n",
       "      <td>1</td>\n",
       "      <td>1</td>\n",
       "      <td>1</td>\n",
       "      <td>...</td>\n",
       "      <td>1</td>\n",
       "      <td>0</td>\n",
       "      <td>0</td>\n",
       "      <td>0</td>\n",
       "      <td>1</td>\n",
       "      <td>1</td>\n",
       "      <td>2</td>\n",
       "      <td>2</td>\n",
       "      <td>2</td>\n",
       "      <td>0</td>\n",
       "    </tr>\n",
       "    <tr>\n",
       "      <th>3</th>\n",
       "      <td>26</td>\n",
       "      <td>1</td>\n",
       "      <td>0</td>\n",
       "      <td>0</td>\n",
       "      <td>0</td>\n",
       "      <td>2</td>\n",
       "      <td>1</td>\n",
       "      <td>1</td>\n",
       "      <td>2</td>\n",
       "      <td>0</td>\n",
       "      <td>...</td>\n",
       "      <td>2</td>\n",
       "      <td>4</td>\n",
       "      <td>2</td>\n",
       "      <td>0</td>\n",
       "      <td>2</td>\n",
       "      <td>0</td>\n",
       "      <td>2</td>\n",
       "      <td>2</td>\n",
       "      <td>2</td>\n",
       "      <td>1</td>\n",
       "    </tr>\n",
       "    <tr>\n",
       "      <th>4</th>\n",
       "      <td>35</td>\n",
       "      <td>0</td>\n",
       "      <td>1</td>\n",
       "      <td>0</td>\n",
       "      <td>1</td>\n",
       "      <td>0</td>\n",
       "      <td>0</td>\n",
       "      <td>1</td>\n",
       "      <td>0</td>\n",
       "      <td>1</td>\n",
       "      <td>...</td>\n",
       "      <td>1</td>\n",
       "      <td>0</td>\n",
       "      <td>1</td>\n",
       "      <td>1</td>\n",
       "      <td>2</td>\n",
       "      <td>2</td>\n",
       "      <td>0</td>\n",
       "      <td>2</td>\n",
       "      <td>1</td>\n",
       "      <td>1</td>\n",
       "    </tr>\n",
       "  </tbody>\n",
       "</table>\n",
       "<p>5 rows × 22 columns</p>\n",
       "</div>"
      ],
      "text/plain": [
       "   Age  Gender  Country  self_employed  family_history  no_employees  \\\n",
       "0   25       0        0              0               1             1   \n",
       "1   42       0        0              0               1             1   \n",
       "2   34       0        0              0               1             3   \n",
       "3   26       1        0              0               0             2   \n",
       "4   35       0        1              0               1             0   \n",
       "\n",
       "   remote_work  tech_company  benefits  care_options  ...  anonymity  leave  \\\n",
       "0            1             1         1             1  ...          1      1   \n",
       "1            1             1         2             0  ...          2      4   \n",
       "2            0             1         1             1  ...          1      0   \n",
       "3            1             1         2             0  ...          2      4   \n",
       "4            0             1         0             1  ...          1      0   \n",
       "\n",
       "   mental_health_consequence  phys_health_consequence  coworkers  supervisor  \\\n",
       "0                          0                        0          1           1   \n",
       "1                          2                        0          2           1   \n",
       "2                          0                        0          1           1   \n",
       "3                          2                        0          2           0   \n",
       "4                          1                        1          2           2   \n",
       "\n",
       "   mental_health_interview  phys_health_interview  mental_vs_physical  \\\n",
       "0                        2                      2                   2   \n",
       "1                        0                      2                   2   \n",
       "2                        2                      2                   2   \n",
       "3                        2                      2                   2   \n",
       "4                        0                      2                   1   \n",
       "\n",
       "   obs_consequence  \n",
       "0                0  \n",
       "1                0  \n",
       "2                0  \n",
       "3                1  \n",
       "4                1  \n",
       "\n",
       "[5 rows x 22 columns]"
      ]
     },
     "execution_count": 27,
     "metadata": {},
     "output_type": "execute_result"
    }
   ],
   "source": [
    "df.head()"
   ]
  },
  {
   "cell_type": "code",
   "execution_count": 28,
   "metadata": {},
   "outputs": [],
   "source": [
    "df.to_csv('test_cleaned_numericalised.csv', index=False)"
   ]
  }
 ],
 "metadata": {
  "kernelspec": {
   "display_name": "Python 3",
   "language": "python",
   "name": "python3"
  },
  "language_info": {
   "codemirror_mode": {
    "name": "ipython",
    "version": 3
   },
   "file_extension": ".py",
   "mimetype": "text/x-python",
   "name": "python",
   "nbconvert_exporter": "python",
   "pygments_lexer": "ipython3",
   "version": "3.7.3"
  }
 },
 "nbformat": 4,
 "nbformat_minor": 2
}
